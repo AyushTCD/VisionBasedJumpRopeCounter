{
 "cells": [
  {
   "cell_type": "code",
   "execution_count": 1,
   "id": "a8704c24",
   "metadata": {},
   "outputs": [],
   "source": [
    "import pandas as pd"
   ]
  },
  {
   "cell_type": "code",
   "execution_count": 2,
   "id": "b2e74db7",
   "metadata": {},
   "outputs": [],
   "source": [
    "reader = pd.read_html(r\"C:\\Users\\ayush\\Desktop\\Jump Rope Code\\XML\\JumpRopeChairAngleBESTANDLATEST.html\")"
   ]
  },
  {
   "cell_type": "code",
   "execution_count": null,
   "id": "415b4908",
   "metadata": {},
   "outputs": [],
   "source": [
    "GroundTruth = pd.DataFrame(reader[0])"
   ]
  },
  {
   "cell_type": "code",
   "execution_count": null,
   "id": "0a811449",
   "metadata": {},
   "outputs": [],
   "source": [
    "Modified_GroundTruth = GroundTruth[2:]"
   ]
  },
  {
   "cell_type": "code",
   "execution_count": null,
   "id": "d6611315",
   "metadata": {},
   "outputs": [],
   "source": [
    "Modified_GroundTruth"
   ]
  },
  {
   "cell_type": "code",
   "execution_count": null,
   "id": "4852d87b",
   "metadata": {},
   "outputs": [],
   "source": [
    "timingsList = Modified_GroundTruth[1]"
   ]
  },
  {
   "cell_type": "code",
   "execution_count": null,
   "id": "ec1f9cae",
   "metadata": {},
   "outputs": [],
   "source": [
    "float_timings = list(map(float,timingsList))"
   ]
  },
  {
   "cell_type": "code",
   "execution_count": null,
   "id": "751f1ddd",
   "metadata": {},
   "outputs": [],
   "source": [
    "Modified_GroundTruth['Timings'] = float_timings"
   ]
  },
  {
   "cell_type": "code",
   "execution_count": null,
   "id": "01bdd391",
   "metadata": {},
   "outputs": [],
   "source": [
    "del Modified_GroundTruth[1]"
   ]
  },
  {
   "cell_type": "code",
   "execution_count": null,
   "id": "789d1347",
   "metadata": {},
   "outputs": [],
   "source": [
    "Modified_GroundTruth"
   ]
  },
  {
   "cell_type": "code",
   "execution_count": null,
   "id": "34a483f8",
   "metadata": {},
   "outputs": [],
   "source": [
    "Modified_GroundTruth['Timings'][3]Modified_frame_list = []\n",
    "for i in range(len(Modified_GroundTruth)):\n",
    "    Modified_frame_list.append(get_frame_number(Modified_GroundTruth['Timings'][i+2],30))"
   ]
  },
  {
   "cell_type": "code",
   "execution_count": null,
   "id": "2043d7ab",
   "metadata": {},
   "outputs": [],
   "source": [
    "Modified_frame_list = []\n",
    "for i in range(len(Modified_GroundTruth)):\n",
    "    Modified_frame_list.append(get_frame_number(Modified_GroundTruth['Timings'][i+2],30))"
   ]
  },
  {
   "cell_type": "code",
   "execution_count": null,
   "id": "57735d21",
   "metadata": {},
   "outputs": [],
   "source": []
  },
  {
   "cell_type": "code",
   "execution_count": null,
   "id": "b839be1d",
   "metadata": {},
   "outputs": [],
   "source": []
  },
  {
   "cell_type": "code",
   "execution_count": null,
   "id": "62e93610",
   "metadata": {},
   "outputs": [],
   "source": []
  }
 ],
 "metadata": {
  "kernelspec": {
   "display_name": "AndrewNgDeepLearning",
   "language": "python",
   "name": "andrewngdeeplearning"
  },
  "language_info": {
   "codemirror_mode": {
    "name": "ipython",
    "version": 3
   },
   "file_extension": ".py",
   "mimetype": "text/x-python",
   "name": "python",
   "nbconvert_exporter": "python",
   "pygments_lexer": "ipython3",
   "version": "3.9.4"
  }
 },
 "nbformat": 4,
 "nbformat_minor": 5
}
