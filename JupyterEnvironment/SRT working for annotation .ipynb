{
 "cells": [
  {
   "cell_type": "code",
   "execution_count": 1,
   "id": "3f6a10a0",
   "metadata": {},
   "outputs": [
    {
     "name": "stdout",
     "output_type": "stream",
     "text": [
      "Collecting srt\n",
      "  Downloading srt-3.5.2.tar.gz (24 kB)\n",
      "  Preparing metadata (setup.py): started\n",
      "  Preparing metadata (setup.py): finished with status 'done'\n",
      "Building wheels for collected packages: srt\n",
      "  Building wheel for srt (setup.py): started\n",
      "  Building wheel for srt (setup.py): finished with status 'done'\n",
      "  Created wheel for srt: filename=srt-3.5.2-py3-none-any.whl size=22504 sha256=ebefab61f9ee639dc4bb3da87f87bee865741c04a3d4b31a5bd73e4d1937b955\n",
      "  Stored in directory: c:\\users\\ayush\\appdata\\local\\pip\\cache\\wheels\\4c\\cf\\fc\\fc66e373ba9435f65a53ea7e7aeb18e1100f2ba17b6ef17518\n",
      "Successfully built srt\n",
      "Installing collected packages: srt\n",
      "Successfully installed srt-3.5.2\n",
      "Note: you may need to restart the kernel to use updated packages.\n"
     ]
    },
    {
     "name": "stderr",
     "output_type": "stream",
     "text": [
      "WARNING: You are using pip version 21.3.1; however, version 23.0 is available.\n",
      "You should consider upgrading via the 'C:\\Users\\ayush\\Desktop\\Coding Recomp\\Andrew NG Deep Learning\\AndrewNg\\Scripts\\python.exe -m pip install --upgrade pip' command.\n"
     ]
    }
   ],
   "source": [
    "pip install srt "
   ]
  },
  {
   "cell_type": "code",
   "execution_count": null,
   "id": "0d729012",
   "metadata": {},
   "outputs": [],
   "source": []
  }
 ],
 "metadata": {
  "kernelspec": {
   "display_name": "AndrewNgDeepLearning",
   "language": "python",
   "name": "andrewngdeeplearning"
  },
  "language_info": {
   "codemirror_mode": {
    "name": "ipython",
    "version": 3
   },
   "file_extension": ".py",
   "mimetype": "text/x-python",
   "name": "python",
   "nbconvert_exporter": "python",
   "pygments_lexer": "ipython3",
   "version": "3.9.4"
  }
 },
 "nbformat": 4,
 "nbformat_minor": 5
}
